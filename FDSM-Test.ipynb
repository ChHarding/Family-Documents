{
 "cells": [
  {
   "cell_type": "code",
   "execution_count": null,
   "source": [
    "  \n",
    "               "
   ],
   "outputs": [],
   "metadata": {}
  },
  {
   "cell_type": "code",
   "execution_count": null,
   "source": [
    "#-- Imports lists \n",
    "import unittest\n",
    "from unittest.mock import patch, MagicMock\n",
    "from io import StringIO\n",
    "from pathlib import Path\n",
    "import csv\n",
    "from datetime import datetime\n",
    "from DocumentRepository import DocumentRepository\n",
    "from Document import Document\n",
    "from main import DocumentManagementSystem  #The file is named 'main.py'\n",
    "\n",
    "class TestDocumentManagementSystem(unittest.TestCase):\n",
    "\n",
    "    def setUp(self):\n",
    "        \n",
    "    def setUp(self):\n",
    "        self.test_csv_file = 'test_documents.csv'\n",
    "        self.repo = DocumentRepository(self.test_csv_file)\n",
    "        self.dms = DocumentManagementSystem()\n",
    "        self.dms.repo = self.repo\n",
    "#--------------------------- part 1\n",
    "    def tearDown(self):\n",
    "        # Clean up test files\n",
    "        Path(self.test_csv_file).unlink(missing_ok=True)\n",
    "        for file in Path('data/documents').glob('*.txt'):\n",
    "            file.unlink()\n",
    "        for file in Path('data/documents').glob('*.pdf'):\n",
    "            file.unlink()\n",
    "\n",
    "    def test_add_document(self):\n",
    "        doc = Document(\"1\", \"Test Doc\", \"A test document\", \"Confidential\", \"test.pdf\", \"2023-04-15 10:00:00\")\n",
    "        self.repo.add_document(doc)\n",
    "        self.assertEqual(len(self.repo.documents), 1)\n",
    "        self.assertEqual(self.repo.documents[0].title, \"Test Doc\")\n",
    "#-------- 2nd check \n",
    "    def test_remove_document(self):\n",
    "        doc = Document(\"1\", \"Test Doc\", \"A test document\", \"Confidential\", \"test.pdf\", \"2023-04-15 10:00:00\")\n",
    "        self.repo.add_document(doc)\n",
    "        \n",
    "        with patch('builtins.input', side_effect=['1', 'yes']):\n",
    "            self.repo.remove_document()\n",
    "        \n",
    "        self.assertEqual(len(self.repo.documents), 0)\n",
    "        "
   ],
   "outputs": [],
   "metadata": {}
  },
  {
   "cell_type": "code",
   "execution_count": null,
   "source": [
    "\n",
    "def main():\n",
    "    root = tk.Tk()\n",
    "    app = DocumentManagementSystemGUI(root)\n",
    "    root.mainloop()\n",
    "\n",
    "if __name__ == \"__main__\":\n",
    "    main()"
   ],
   "outputs": [],
   "metadata": {}
  },
  {
   "cell_type": "code",
   "execution_count": null,
   "source": [
    " def test_search_documents(self):\n",
    "        doc1 = Document(\"1\", \"Python Guide\", \"A guide to Python\", \"Public\", \"python.pdf\", \"2023-04-15 10:00:00\")\n",
    "        doc2 = Document(\"2\", \"Java Tutorial\", \"A Java tutorial\", \"Public\", \"java.pdf\", \"2023-04-15 11:00:00\")\n",
    "        self.repo.add_document(doc1)\n",
    "        self.repo.add_document(doc2)\n",
    "\n",
    "        results = self.repo.search_documents(\"Python\")\n",
    "        self.assertEqual(len(results), 1)\n",
    "        self.assertEqual(results[0].title, \"Python Guide\")\n",
    "\n",
    "    def test_update_document(self):\n",
    "        doc = Document(\"1\", \"Old Title\", \"Old description\", \"Public\", \"old.pdf\", \"2023-04-15 10:00:00\")\n",
    "        self.repo.add_document(doc)\n",
    "\n",
    "        with patch('builtins.input', side_effect=['1', 'New Title', 'New description', 'Confidential']):\n",
    "            self.repo.update_document_interactive()\n",
    "\n",
    "        updated_doc = self.repo.get_document_by_id(\"1\")\n",
    "        self.assertEqual(updated_doc.title, \"New Title\")\n",
    "        self.assertEqual(updated_doc.description, \"New description\")\n",
    "        self.assertEqual(updated_doc.classification, \"Confidential\")\n",
    "\n",
    "    def test_load_documents(self):\n",
    "        # Create a test CSV file\n",
    "        with open(self.test_csv_file, 'w', newline='') as file:\n",
    "            writer = csv.DictWriter(file, fieldnames=Document.get_fields())\n",
    "            writer.writeheader()\n",
    "            writer.writerow({\n",
    "                \"id\": \"1\",\n",
    "                \"title\": \"Test Doc\",\n",
    "                \"description\": \"A test document\",\n",
    "                \"classification\": \"Confidential\",\n",
    "                \"file_path\": \"test.pdf\",\n",
    "                \"upload_date\": \"2023-04-15 10:00:00\"\n",
    "            })\n",
    "\n",
    "        repo = DocumentRepository(self.test_csv_file)\n",
    "        self.assertEqual(len(repo.documents), 1)\n",
    "        self.assertEqual(repo.documents[0].title, \"Test Doc\")\n",
    "\n",
    "    def test_save_documents(self):\n",
    "        doc = Document(\"1\", \"Test Doc\", \"A test document\", \"Confidential\", \"test.pdf\", \"2023-04-15 10:00:00\")\n",
    "        self.repo.add_document(doc)\n",
    "        self.repo.save_documents()\n",
    "\n",
    "        # Check if the CSV file was created and contains the correct data\n",
    "        with open(self.test_csv_file, 'r', newline='') as file:\n",
    "            reader = csv.DictReader(file)\n",
    "            rows = list(reader)\n",
    "            self.assertEqual(len(rows), 1)\n",
    "            self.assertEqual(rows[0]['title'], \"Test Doc\")\n",
    "\n",
    "    def test_create_document_txt_file(self):\n",
    "        doc = Document(\"1\", \"Test Doc\", \"A test document\", \"Confidential\", \"test.pdf\", \"2023-04-15 10:00:00\")\n",
    "        self.repo.create_document_txt_file(doc)\n",
    "\n",
    "        txt_file_path = Path('data/documents/test_doc.txt')\n",
    "        self.assertTrue(txt_file_path.exists())\n",
    "\n",
    "        with txt_file_path.open('r') as file:\n",
    "            content = file.read()\n",
    "            self.assertIn(\"Title: Test Doc\", content)\n",
    "            self.assertIn(\"Description: A test document\", content)\n"
   ],
   "outputs": [],
   "metadata": {}
  },
  {
   "cell_type": "code",
   "execution_count": null,
   "source": [],
   "outputs": [],
   "metadata": {}
  },
  {
   "cell_type": "code",
   "execution_count": null,
   "source": [],
   "outputs": [],
   "metadata": {}
  },
  {
   "cell_type": "code",
   "execution_count": null,
   "source": [],
   "outputs": [],
   "metadata": {}
  }
 ],
 "metadata": {
  "kernelspec": {
   "name": "python3",
   "display_name": "Python 3.12.1 64-bit"
  },
  "language_info": {
   "codemirror_mode": {
    "name": "ipython",
    "version": 3
   },
   "file_extension": ".py",
   "mimetype": "text/x-python",
   "name": "python",
   "nbconvert_exporter": "python",
   "pygments_lexer": "ipython3",
   "version": "3.12.1"
  },
  "varInspector": {
   "cols": {
    "lenName": 16,
    "lenType": 16,
    "lenVar": 40
   },
   "kernels_config": {
    "python": {
     "delete_cmd_postfix": "",
     "delete_cmd_prefix": "del ",
     "library": "var_list.py",
     "varRefreshCmd": "print(var_dic_list())"
    },
    "r": {
     "delete_cmd_postfix": ") ",
     "delete_cmd_prefix": "rm(",
     "library": "var_list.r",
     "varRefreshCmd": "cat(var_dic_list()) "
    }
   },
   "types_to_exclude": [
    "module",
    "function",
    "builtin_function_or_method",
    "instance",
    "_Feature"
   ],
   "window_display": false
  },
  "vscode": {
   "interpreter": {
    "hash": "b1be0222797457612977eb3eaa00946922d56583fa52c09202534133b3ce7849"
   }
  },
  "interpreter": {
   "hash": "aee8b7b246df8f9039afb4144a1f6fd8d2ca17a180786b69acc140d282b71a49"
  }
 },
 "nbformat": 4,
 "nbformat_minor": 2
}