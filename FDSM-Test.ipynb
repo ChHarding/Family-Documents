{
 "cells": [
  {
   "cell_type": "code",
   "execution_count": null,
   "source": [
    "  \n",
    "               "
   ],
   "outputs": [],
   "metadata": {}
  },
  {
   "cell_type": "code",
   "execution_count": null,
   "source": [
    "#-- Imports lists \n",
    "import unittest\n",
    "from unittest.mock import patch, MagicMock\n",
    "from io import StringIO\n",
    "from pathlib import Path\n",
    "import csv\n",
    "from datetime import datetime\n",
    "from DocumentRepository import DocumentRepository\n",
    "from Document import Document\n",
    "from main import DocumentManagementSystem  #The file is named 'main.py'\n",
    "\n",
    "class TestDocumentManagementSystem(unittest.TestCase):\n",
    "\n",
    "    def setUp(self):\n",
    "        \n",
    "    def setUp(self):\n",
    "        self.test_csv_file = 'test_documents.csv'\n",
    "        self.repo = DocumentRepository(self.test_csv_file)\n",
    "        self.dms = DocumentManagementSystem()\n",
    "        self.dms.repo = self.repo\n",
    "#--------------------------- part 1\n",
    "    def tearDown(self):\n",
    "        # Clean up test files\n",
    "        Path(self.test_csv_file).unlink(missing_ok=True)\n",
    "        for file in Path('data/documents').glob('*.txt'):\n",
    "            file.unlink()\n",
    "        for file in Path('data/documents').glob('*.pdf'):\n",
    "            file.unlink()\n",
    "\n",
    "    def test_add_document(self):\n",
    "        doc = Document(\"1\", \"Test Doc\", \"A test document\", \"Confidential\", \"test.pdf\", \"2023-04-15 10:00:00\")\n",
    "        self.repo.add_document(doc)\n",
    "        self.assertEqual(len(self.repo.documents), 1)\n",
    "        self.assertEqual(self.repo.documents[0].title, \"Test Doc\")\n",
    "#-------- 2nd check \n",
    "    def test_remove_document(self):\n",
    "        doc = Document(\"1\", \"Test Doc\", \"A test document\", \"Confidential\", \"test.pdf\", \"2023-04-15 10:00:00\")\n",
    "        self.repo.add_document(doc)\n",
    "        \n",
    "        with patch('builtins.input', side_effect=['1', 'yes']):\n",
    "            self.repo.remove_document()\n",
    "        \n",
    "        self.assertEqual(len(self.repo.documents), 0)"
   ],
   "outputs": [],
   "metadata": {}
  },
  {
   "cell_type": "code",
   "execution_count": null,
   "source": [
    "\n",
    "def main():\n",
    "    root = tk.Tk()\n",
    "    app = DocumentManagementSystemGUI(root)\n",
    "    root.mainloop()\n",
    "\n",
    "if __name__ == \"__main__\":\n",
    "    main()"
   ],
   "outputs": [],
   "metadata": {}
  },
  {
   "cell_type": "code",
   "execution_count": null,
   "source": [],
   "outputs": [],
   "metadata": {}
  },
  {
   "cell_type": "code",
   "execution_count": null,
   "source": [],
   "outputs": [],
   "metadata": {}
  },
  {
   "cell_type": "code",
   "execution_count": null,
   "source": [],
   "outputs": [],
   "metadata": {}
  },
  {
   "cell_type": "code",
   "execution_count": null,
   "source": [],
   "outputs": [],
   "metadata": {}
  }
 ],
 "metadata": {
  "kernelspec": {
   "name": "python3",
   "display_name": "Python 3.12.1 64-bit"
  },
  "language_info": {
   "codemirror_mode": {
    "name": "ipython",
    "version": 3
   },
   "file_extension": ".py",
   "mimetype": "text/x-python",
   "name": "python",
   "nbconvert_exporter": "python",
   "pygments_lexer": "ipython3",
   "version": "3.12.1"
  },
  "varInspector": {
   "cols": {
    "lenName": 16,
    "lenType": 16,
    "lenVar": 40
   },
   "kernels_config": {
    "python": {
     "delete_cmd_postfix": "",
     "delete_cmd_prefix": "del ",
     "library": "var_list.py",
     "varRefreshCmd": "print(var_dic_list())"
    },
    "r": {
     "delete_cmd_postfix": ") ",
     "delete_cmd_prefix": "rm(",
     "library": "var_list.r",
     "varRefreshCmd": "cat(var_dic_list()) "
    }
   },
   "types_to_exclude": [
    "module",
    "function",
    "builtin_function_or_method",
    "instance",
    "_Feature"
   ],
   "window_display": false
  },
  "vscode": {
   "interpreter": {
    "hash": "b1be0222797457612977eb3eaa00946922d56583fa52c09202534133b3ce7849"
   }
  },
  "interpreter": {
   "hash": "aee8b7b246df8f9039afb4144a1f6fd8d2ca17a180786b69acc140d282b71a49"
  }
 },
 "nbformat": 4,
 "nbformat_minor": 2
}